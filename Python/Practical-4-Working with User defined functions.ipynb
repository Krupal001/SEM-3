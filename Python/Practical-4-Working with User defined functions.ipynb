{
 "cells": [
  {
   "cell_type": "markdown",
   "id": "regional-brighton",
   "metadata": {},
   "source": [
    "Create & use simple function"
   ]
  },
  {
   "cell_type": "code",
   "execution_count": null,
   "id": "latest-proposition",
   "metadata": {},
   "outputs": [],
   "source": [
    "# Function to print message\n",
    "def greet():\n",
    "    print(\"Namaskar\")"
   ]
  },
  {
   "cell_type": "code",
   "execution_count": null,
   "id": "turkish-major",
   "metadata": {},
   "outputs": [],
   "source": [
    "print(\"Now calling greet()\")\n",
    "greet()\n",
    "print(\"Came back from greet().\")"
   ]
  },
  {
   "cell_type": "code",
   "execution_count": null,
   "id": "eligible-climate",
   "metadata": {},
   "outputs": [],
   "source": []
  },
  {
   "cell_type": "code",
   "execution_count": null,
   "id": "peaceful-delaware",
   "metadata": {},
   "outputs": [],
   "source": [
    "# Function body without statements. But notice the pass statement"
   ]
  },
  {
   "cell_type": "code",
   "execution_count": null,
   "id": "collective-brooks",
   "metadata": {},
   "outputs": [],
   "source": [
    "def dummy():\n",
    "    pass"
   ]
  },
  {
   "cell_type": "code",
   "execution_count": null,
   "id": "exact-going",
   "metadata": {},
   "outputs": [],
   "source": [
    "print(\"Now calling dummy()\")\n",
    "dummy()\n",
    "print(\"Came back from dummy().\")"
   ]
  },
  {
   "cell_type": "code",
   "execution_count": null,
   "id": "noble-involvement",
   "metadata": {},
   "outputs": [],
   "source": []
  },
  {
   "cell_type": "code",
   "execution_count": null,
   "id": "brief-washington",
   "metadata": {},
   "outputs": [],
   "source": [
    "# Function body without statements. But notice absence of the pass statement\n",
    "def dummy():\n",
    "    #pass"
   ]
  },
  {
   "cell_type": "code",
   "execution_count": null,
   "id": "included-alpha",
   "metadata": {},
   "outputs": [],
   "source": [
    "print(\"Now calling dummy()\")\n",
    "dummy()\n",
    "print(\"Came back from dummy().\")"
   ]
  },
  {
   "cell_type": "markdown",
   "id": "constitutional-volunteer",
   "metadata": {},
   "source": [
    "Passing parameters"
   ]
  },
  {
   "cell_type": "code",
   "execution_count": null,
   "id": "quality-legislation",
   "metadata": {},
   "outputs": [],
   "source": [
    "def sum(num1,num2):\n",
    "    ans = num1 + num2\n",
    "    print(num1, \" + \", num2, \" = \", ans)"
   ]
  },
  {
   "cell_type": "code",
   "execution_count": null,
   "id": "bored-merit",
   "metadata": {},
   "outputs": [],
   "source": [
    "x = 7\n",
    "y = 9\n",
    "\n",
    "sum(x,y)"
   ]
  },
  {
   "cell_type": "code",
   "execution_count": null,
   "id": "qualified-dating",
   "metadata": {},
   "outputs": [],
   "source": []
  },
  {
   "cell_type": "code",
   "execution_count": null,
   "id": "crucial-relative",
   "metadata": {},
   "outputs": [],
   "source": [
    "def add(a,b):\n",
    "    ans = a + b\n",
    "    print(ans)"
   ]
  },
  {
   "cell_type": "code",
   "execution_count": null,
   "id": "hungarian-commission",
   "metadata": {},
   "outputs": [],
   "source": [
    "add(7,9)"
   ]
  },
  {
   "cell_type": "code",
   "execution_count": null,
   "id": "faced-vegetation",
   "metadata": {},
   "outputs": [],
   "source": [
    "add('Wake','up')"
   ]
  },
  {
   "cell_type": "code",
   "execution_count": null,
   "id": "congressional-lexington",
   "metadata": {},
   "outputs": [],
   "source": [
    "add(7.0,9.0)"
   ]
  },
  {
   "cell_type": "code",
   "execution_count": null,
   "id": "indoor-exception",
   "metadata": {},
   "outputs": [],
   "source": [
    "add(7,9.9)"
   ]
  },
  {
   "cell_type": "code",
   "execution_count": null,
   "id": "imported-planner",
   "metadata": {},
   "outputs": [],
   "source": [
    "add(7,True)"
   ]
  },
  {
   "cell_type": "code",
   "execution_count": null,
   "id": "forbidden-third",
   "metadata": {},
   "outputs": [],
   "source": [
    "add(7,False)"
   ]
  },
  {
   "cell_type": "code",
   "execution_count": null,
   "id": "rental-civilization",
   "metadata": {},
   "outputs": [],
   "source": [
    "print(sum(x,y))"
   ]
  },
  {
   "cell_type": "markdown",
   "id": "descending-beatles",
   "metadata": {},
   "source": [
    "Returning results from a function"
   ]
  },
  {
   "cell_type": "code",
   "execution_count": null,
   "id": "bearing-microphone",
   "metadata": {},
   "outputs": [],
   "source": [
    "def add(a,b):\n",
    "    ans = a + b\n",
    "    return ans"
   ]
  },
  {
   "cell_type": "code",
   "execution_count": null,
   "id": "successful-matrix",
   "metadata": {},
   "outputs": [],
   "source": [
    "print(add(7,9))"
   ]
  },
  {
   "cell_type": "code",
   "execution_count": null,
   "id": "extraordinary-jamaica",
   "metadata": {},
   "outputs": [],
   "source": [
    "z = add(7,9)\n",
    "z"
   ]
  },
  {
   "cell_type": "code",
   "execution_count": null,
   "id": "rental-sudan",
   "metadata": {},
   "outputs": [],
   "source": [
    "add(7,add(7,9))"
   ]
  },
  {
   "cell_type": "code",
   "execution_count": null,
   "id": "preceding-momentum",
   "metadata": {},
   "outputs": [],
   "source": [
    "add(7,\"erroneous\")"
   ]
  },
  {
   "cell_type": "code",
   "execution_count": null,
   "id": "personalized-princeton",
   "metadata": {},
   "outputs": [],
   "source": [
    "# function to check odd - even \n",
    "def odd_even(n):\n",
    "    if n%2 == 0:\n",
    "        return 'even'\n",
    "    else:\n",
    "        return 'odd'"
   ]
  },
  {
   "cell_type": "code",
   "execution_count": null,
   "id": "correct-pierre",
   "metadata": {},
   "outputs": [],
   "source": [
    "num = int(input(\"Enter an integer:\"))\n",
    "print(num, \" is \", odd_even(num))"
   ]
  },
  {
   "cell_type": "code",
   "execution_count": null,
   "id": "sustainable-workshop",
   "metadata": {},
   "outputs": [],
   "source": []
  },
  {
   "cell_type": "markdown",
   "id": "defined-watershed",
   "metadata": {},
   "source": [
    "Return multiple values from function"
   ]
  },
  {
   "cell_type": "code",
   "execution_count": null,
   "id": "equal-corruption",
   "metadata": {},
   "outputs": [],
   "source": [
    "def add_subtract(a,b):\n",
    "    sum = a + b\n",
    "    sub = a - b\n",
    "    return sum, sub"
   ]
  },
  {
   "cell_type": "code",
   "execution_count": null,
   "id": "matched-algeria",
   "metadata": {},
   "outputs": [],
   "source": [
    "x, y = 7,9\n",
    "print(type(x), type(y))\n",
    "\n",
    "ans = add_subtract(x,y)\n",
    "print(type(ans))\n",
    "print(ans)\n",
    "print(\"addition = \",ans[0])\n",
    "print(\"addition = \",ans[1])"
   ]
  },
  {
   "cell_type": "code",
   "execution_count": null,
   "id": "operational-hometown",
   "metadata": {},
   "outputs": [],
   "source": [
    "x, y = 7,9\n",
    "print(add_subtract(x,y))"
   ]
  },
  {
   "cell_type": "code",
   "execution_count": null,
   "id": "nutritional-atlanta",
   "metadata": {},
   "outputs": [],
   "source": [
    "x, y = 7,9\n",
    "addition, subtraction = add_subtract(x,y)\n",
    "print(addition)\n",
    "print(subtraction)"
   ]
  },
  {
   "cell_type": "markdown",
   "id": "postal-complexity",
   "metadata": {},
   "source": [
    "### Exercises\n",
    "<ol>\n",
    "    <li> Create a function calcFactorial. It should accept one integer parameter. If the parameter is integer, the function should return factorial of the parameter, else the function should return -9999. Show usage of the function.\n",
    "    <li> Create a function checkPrime. It should accept one integer parameter. If the parameter is not integer, the function should return -9999. The function should return True if the parameter is a prime number, else the function should return False. Show usage of the function.\n",
    "    <li> Create a function countVowelsFrequencies. The function should accept one string parameter and return frequency of each vowel present in the parameter.\n",
    "    <li> Create a function factorials which accepts a list of integers. The function should compute factorial for all list elements (use calcFactorial() from above sr# 1), and return all factorial values.\n",
    "    <li> Create a function calcSimpleInterest() to compute simple interest of three paramters: principal_amount, duration, rate_of_interest. Demonstrate usage of default arguments in function call.\n",
    "    <li> Create a function printMultiplicationTable(). The function should receive an integer parameter and print  multiplication table of the same.\n",
    "    <li> Create a function toUpper() to convert a string parameter in upper case and return the same. Do not use inbuilt function.\n",
    "    <li> Create a function removeWhiteSpaceFromString() to remove white space from a string parameter.\n",
    "    <li> Create a function reverseString() to reverse a string parameter.  Do not use inbuilt function.\n",
    "    <li> Create a function checkSquare(), which accepts lengths of four sides of a rectangle; and checks if rectangle is square or not.\n",
    "</ol>\n",
    "\n",
    "File name should be:<br>\n",
    "MA0-Practical-4-Working with User defined functions.ipynb"
   ]
  },
  {
   "cell_type": "code",
   "execution_count": null,
   "id": "pressed-compression",
   "metadata": {},
   "outputs": [],
   "source": []
  }
 ],
 "metadata": {
  "kernelspec": {
   "display_name": "Python 3 (ipykernel)",
   "language": "python",
   "name": "python3"
  },
  "language_info": {
   "codemirror_mode": {
    "name": "ipython",
    "version": 3
   },
   "file_extension": ".py",
   "mimetype": "text/x-python",
   "name": "python",
   "nbconvert_exporter": "python",
   "pygments_lexer": "ipython3",
   "version": "3.10.9"
  }
 },
 "nbformat": 4,
 "nbformat_minor": 5
}
