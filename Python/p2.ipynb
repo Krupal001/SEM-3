{
 "cells": [
  {
   "cell_type": "markdown",
   "metadata": {},
   "source": [
    "### 1.Input two float operands from user. Apply arithmetic operators on them."
   ]
  },
  {
   "cell_type": "code",
   "execution_count": 1,
   "metadata": {},
   "outputs": [
    {
     "name": "stdout",
     "output_type": "stream",
     "text": [
      "a+b:= 16.19\n",
      "a-b:= 4.81\n",
      "a*b:= 59.745000000000005\n",
      "a/b:= 1.845342706502636\n",
      "a//b:= 1.0\n",
      "a**b:= 646497.889870203\n"
     ]
    }
   ],
   "source": [
    "a=float(input('enter no1:='))\n",
    "b=float(input('enter no2:='))\n",
    "print(\"a+b:=\",a+b)\n",
    "print(\"a-b:=\",a-b)\n",
    "print(\"a*b:=\",a*b)\n",
    "print(\"a/b:=\",a/b)\n",
    "print(\"a//b:=\",a//b)\n",
    "print(\"a**b:=\",a**b)"
   ]
  },
  {
   "cell_type": "markdown",
   "metadata": {},
   "source": [
    "### 2.Input two string operands from user. Check behaviour of relational and logical operators on them. Write your observations."
   ]
  },
  {
   "cell_type": "code",
   "execution_count": 2,
   "metadata": {},
   "outputs": [
    {
     "name": "stdout",
     "output_type": "stream",
     "text": [
      "a<b:= False\n",
      "a>b:= True\n",
      "a==b:= False\n",
      "a!=b:= True\n",
      "a and b:= ddu\n",
      "a or b:= hello \n"
     ]
    }
   ],
   "source": [
    "a=(input('enter string 1:='))\n",
    "b=(input('enter string 2:='))\n",
    "print(\"a<b:=\",a<b)\n",
    "print(\"a>b:=\",a>b)\n",
    "print(\"a==b:=\",a==b)\n",
    "print(\"a!=b:=\",a!=b)\n",
    "print(\"a and b:=\",a and b)\n",
    "print(\"a or b:=\",a or b)"
   ]
  },
  {
   "cell_type": "markdown",
   "metadata": {},
   "source": [
    "### 3.Input two int operands from user. Explain behviour of bitwise operators on them."
   ]
  },
  {
   "cell_type": "code",
   "execution_count": 3,
   "metadata": {},
   "outputs": [
    {
     "name": "stdout",
     "output_type": "stream",
     "text": [
      "a & b:= 0\n",
      "a | b:= 15\n",
      "a >> b:= 0\n",
      "a << b:= 320\n",
      "a ^ b:= 15\n"
     ]
    }
   ],
   "source": [
    "a=int((input('enter no1 1:=')))\n",
    "b=int((input('enter no2 2:=')))\n",
    "print(\"a & b:=\",a&b)\n",
    "print(\"a | b:=\",a|b)\n",
    "print(\"a >> b:=\",a>>b)\n",
    "print(\"a << b:=\",a<<b)\n",
    "print(\"a ^ b:=\",a^b)\n",
    "\n",
    "\n",
    "\n",
    "\n"
   ]
  },
  {
   "cell_type": "markdown",
   "metadata": {},
   "source": [
    "### 4.Determine whether an integer entered by a user is odd or even.\n"
   ]
  },
  {
   "cell_type": "code",
   "execution_count": 4,
   "metadata": {},
   "outputs": [
    {
     "name": "stdout",
     "output_type": "stream",
     "text": [
      "even\n"
     ]
    }
   ],
   "source": [
    "a=int(input('enter an integer:-'))\n",
    "if(a%2==0):\n",
    "    print(\"even\")\n",
    "else:\n",
    "    print(\"odd\")"
   ]
  },
  {
   "cell_type": "markdown",
   "metadata": {},
   "source": [
    "### 5.Input student details: rollno, name and marks of 3 subjects from user. Calculate total marks, percentage and grade. Print mark-sheet. Determine pass or fail."
   ]
  },
  {
   "cell_type": "code",
   "execution_count": 1,
   "metadata": {},
   "outputs": [
    {
     "name": "stdout",
     "output_type": "stream",
     "text": [
      "Roll No: 101\n",
      "Name: fdf\n",
      "-----------------MarkSheet-------------------\n",
      "s1\ts2\ts3\n",
      "90 \t 95 \t 85\n",
      "\n",
      "Total Marks: 270\n",
      "\n",
      "Percentage : 90.0\n",
      "\n",
      "Grade      :  A \n",
      "\n",
      "-----------------------------------------------\n"
     ]
    }
   ],
   "source": [
    "rno=input(\"enter roll no :-\")\n",
    "name=input(\"enter name:-\")\n",
    "s1 = int(input('Enter marks of s1: '))\n",
    "s2 = int(input('Enter marks of s2: '))\n",
    "s3 = int(input('Enter marks of s3: '))\n",
    "total=s1+s2+s3\n",
    "percentage=(float)(total/300)*100.0; #calculating percentage\n",
    "print (\"Roll No:\", rno)\n",
    "print ('Name:', name )\n",
    "if (percentage>=90):\n",
    "    grade='A'\n",
    "elif ((percentage<90 and percentage >=85)):\n",
    "    grade='B+'\n",
    "elif((percentage<85 and percentage>=70)):#checking for fail\n",
    "       grade='B'\n",
    "elif(percentage<70 and percentage>=60):\n",
    "    grade='C'\n",
    "else:\n",
    "     grade='F'\n",
    "\n",
    "print(\"-----------------MarkSheet-------------------\")\n",
    "print(\"s1\\ts2\\ts3\")\n",
    "print(s1,\"\\t\",s2,\"\\t\",s3)\n",
    "print(\"\\nTotal Marks:\",total)\n",
    "print('\\nPercentage :',percentage)\n",
    "print('\\nGrade      : ',grade,'\\n')\n",
    "print('-----------------------------------------------')\n",
    "\n"
   ]
  },
  {
   "cell_type": "markdown",
   "metadata": {},
   "source": [
    "### 6.Input employee details: empno, name, gender, basic salary from user. Calculate DA (Of basic salary to 80% male, 70% to female ), HRA (Of basic salary 15% to female, 10% to male) and net salary. Also calculate gross (yearly) salary which also includes bonus (Of one basic salary 50% to male, 55% to female)."
   ]
  },
  {
   "cell_type": "code",
   "execution_count": 1,
   "metadata": {},
   "outputs": [
    {
     "name": "stdout",
     "output_type": "stream",
     "text": [
      "Enter Employee Details:\n",
      "--------------------------------\n",
      "Employee Name: krupal\n",
      "Employee Number: E101\n",
      "Gender: male\n",
      "Basic Salary: 10000.0\n",
      "DA: 8000.0\n",
      "HRA: 1000.0\n",
      "Bonus: 5000.0\n",
      "Gross Salary (Yearly): 24000.0\n",
      "Net Salary (Monthly): 2000.0\n"
     ]
    }
   ],
   "source": [
    "print(\"Enter Employee Details:\")\n",
    "empno = input(\"Emp NO: \")\n",
    "name = input(\"Employee Name: \")\n",
    "gender = input(\"Gender: \")\n",
    "basic_salary = float(input(\"Basic Salary: \"))\n",
    "\n",
    "if gender.lower() == \"male\":\n",
    "    DA = basic_salary * 0.8\n",
    "    HRA = basic_salary * 0.1\n",
    "    bonus = basic_salary * 0.5\n",
    "else:\n",
    "    DA = basic_salary * 0.7\n",
    "    HRA = basic_salary * 0.15\n",
    "    bonus = basic_salary * 0.55\n",
    "\n",
    "gross_salary = basic_salary + DA + HRA + bonus\n",
    "net_salary = gross_salary / 12  \n",
    "\n",
    "print(\"--------------------------------\")\n",
    "print(\"Employee Name:\", name)\n",
    "print(\"Employee Number:\", empno)\n",
    "print(\"Gender:\", gender)\n",
    "print(\"Basic Salary:\", basic_salary)\n",
    "print(\"DA:\", DA)\n",
    "print(\"HRA:\", HRA)\n",
    "print(\"Bonus:\", bonus)\n",
    "print(\"Gross Salary (Yearly):\", gross_salary)\n",
    "print(\"Net Salary (Monthly):\", net_salary)\n",
    "\n",
    "\n",
    "\n"
   ]
  },
  {
   "cell_type": "markdown",
   "metadata": {},
   "source": [
    "<h4>7.Check whether your birthdate has already gone or it is about to come in the current year.</h4>"
   ]
  },
  {
   "cell_type": "code",
   "execution_count": 8,
   "metadata": {},
   "outputs": [
    {
     "name": "stdout",
     "output_type": "stream",
     "text": [
      "Your birthdate has already passed in the current year.\n"
     ]
    }
   ],
   "source": [
    "from datetime import datetime\n",
    "\n",
    "current_date = datetime.now().date()\n",
    "birthdate_str = input(\"Enter your birthdate (YYYY-MM-DD): \")\n",
    "birthdate = datetime.strptime(birthdate_str, \"%Y-%m-%d\").date()\n",
    "\n",
    "if current_date <= birthdate:\n",
    "    print(\"Your birthdate is yet to come in the current year.\")\n",
    "elif current_date >= birthdate:\n",
    "    print(\"Your birthdate has already passed in the current year.\")\n",
    "else:\n",
    "    print(\"Today is your birthdate!\")\n"
   ]
  },
  {
   "cell_type": "markdown",
   "metadata": {},
   "source": [
    "<h4>8.Determine whether current year is leap year or not.</h4>"
   ]
  },
  {
   "cell_type": "code",
   "execution_count": 3,
   "metadata": {},
   "outputs": [
    {
     "name": "stdout",
     "output_type": "stream",
     "text": [
      "2023 is not a leap year.\n"
     ]
    }
   ],
   "source": [
    "import datetime\n",
    "\n",
    "# Get the current year\n",
    "current_year = datetime.datetime.now().year\n",
    "\n",
    "if current_year % 4 == 0 and (current_year % 100 != 0 or current_year % 400 == 0):\n",
    "    print(str(current_year) + \" is a leap year.\")\n",
    "else:\n",
    "    print(str(current_year) + \" is not a leap year.\")\n",
    "\n"
   ]
  },
  {
   "cell_type": "markdown",
   "metadata": {},
   "source": [
    "<h4>9.Print multiplication table of a number entered by user.</h4>"
   ]
  },
  {
   "cell_type": "code",
   "execution_count": 4,
   "metadata": {},
   "outputs": [
    {
     "name": "stdout",
     "output_type": "stream",
     "text": [
      "6  *  1  =  6\n",
      "6  *  2  =  12\n",
      "6  *  3  =  18\n",
      "6  *  4  =  24\n",
      "6  *  5  =  30\n",
      "6  *  6  =  36\n",
      "6  *  7  =  42\n",
      "6  *  8  =  48\n",
      "6  *  9  =  54\n",
      "6  *  10  =  60\n"
     ]
    }
   ],
   "source": [
    "num=int(input(\"Enter any Number:\"))\n",
    "n=1\n",
    "while(n<=10):\n",
    "    print(num,\" * \",n,\" = \",n*num)\n",
    "    n=n+1\n"
   ]
  },
  {
   "cell_type": "markdown",
   "metadata": {},
   "source": [
    "<h4>10.Compute factorial of a number given by user."
   ]
  },
  {
   "cell_type": "code",
   "execution_count": 5,
   "metadata": {},
   "outputs": [
    {
     "name": "stdout",
     "output_type": "stream",
     "text": [
      "factorial= 120\n"
     ]
    }
   ],
   "source": [
    "num=int(input(\"Enter any Number:\"))\n",
    "fact=1\n",
    "i=1\n",
    "while(i<=num):\n",
    "    fact=fact*i\n",
    "    i=i+1\n",
    "print(\"factorial=\",fact)\n"
   ]
  },
  {
   "cell_type": "markdown",
   "metadata": {},
   "source": [
    "<h4>11.Determine whether a number entered by user is prime or not.</h4>"
   ]
  },
  {
   "cell_type": "code",
   "execution_count": 6,
   "metadata": {},
   "outputs": [
    {
     "name": "stdout",
     "output_type": "stream",
     "text": [
      "9 is not a prime number\n"
     ]
    }
   ],
   "source": [
    "num=int(input(\"Enter any Number:\"))\n",
    "i=2\n",
    "flag=0\n",
    "while(i<=num/2):\n",
    "    if(num%i==0):\n",
    "        flag=1\n",
    "        break\n",
    "    i=i+1\n",
    "if(flag==1):\n",
    "    print(num,\"is not a prime number\")\n",
    "else:\n",
    "    print(num,\"is a prime number\")\n",
    "        \n",
    "        \n",
    "    "
   ]
  },
  {
   "cell_type": "markdown",
   "metadata": {},
   "source": [
    "<h4>12.Determine whether a string entered by user is palindrome or not.</h4>"
   ]
  },
  {
   "cell_type": "code",
   "execution_count": 7,
   "metadata": {},
   "outputs": [
    {
     "name": "stdout",
     "output_type": "stream",
     "text": [
      "Not a palindrome\n"
     ]
    }
   ],
   "source": [
    "\n",
    "str = input(\"Enter a string: \")\n",
    "str = str.replace(\" \", \"\").lower()\n",
    "if str == str[::-1]:\n",
    "    print(\"Palindrome\")\n",
    "else:\n",
    "    print(\"Not a palindrome\")\n",
    "\n"
   ]
  },
  {
   "cell_type": "markdown",
   "metadata": {},
   "source": [
    "<h4>13.Find length of a string given by user. Do not use inbuilt function. </h4>"
   ]
  },
  {
   "cell_type": "code",
   "execution_count": 8,
   "metadata": {},
   "outputs": [
    {
     "name": "stdout",
     "output_type": "stream",
     "text": [
      "total length: 8\n"
     ]
    }
   ],
   "source": [
    "str=input(\"Enter any String:\")\n",
    "count=0\n",
    "for i in str:\n",
    "    if(i==' '):\n",
    "       continue\n",
    "     \n",
    "    count=count+1\n",
    "\n",
    "print(\"total length:\",count)     \n"
   ]
  },
  {
   "cell_type": "markdown",
   "metadata": {},
   "source": [
    "<h4>14.Determine whether a number entered by user is prime or not. Do not use inbuilt functions. </h4>"
   ]
  },
  {
   "cell_type": "code",
   "execution_count": 10,
   "metadata": {},
   "outputs": [
    {
     "name": "stdout",
     "output_type": "stream",
     "text": [
      "it is not a prime number\n"
     ]
    }
   ],
   "source": [
    "num=int(input(\"Enter any number:\"))\n",
    "flag=0\n",
    "for i in range(2,num//2):\n",
    "    if(num%i==0):\n",
    "        flag=1\n",
    "        break\n",
    "if(flag==1):\n",
    "    print(\"it is not a prime number\")\n",
    "else:\n",
    "    print(\"it is a prime number\")\n"
   ]
  },
  {
   "cell_type": "markdown",
   "metadata": {},
   "source": [
    "<h4>15.Determine whether a string entered by user is palindrome or not. Do not use inbuilt function. </h4>"
   ]
  },
  {
   "cell_type": "code",
   "execution_count": 11,
   "metadata": {},
   "outputs": [
    {
     "name": "stdout",
     "output_type": "stream",
     "text": [
      "The string is not a palindrome.\n"
     ]
    }
   ],
   "source": [
    "string = input(\"Enter a string: \")\n",
    "is_palindrome = True\n",
    "\n",
    "for i in range(len(string)//2):\n",
    "    if string[i] != string[len(string)-1-i]:\n",
    "        is_palindrome = False\n",
    "        break\n",
    "\n",
    "if is_palindrome:\n",
    "    print(\"The string is a palindrome.\")\n",
    "else:\n",
    "    print(\"The string is not a palindrome.\")\n",
    "\n"
   ]
  },
  {
   "cell_type": "markdown",
   "metadata": {},
   "source": [
    "<h4>16.print pattern</h4>"
   ]
  },
  {
   "cell_type": "code",
   "execution_count": 12,
   "metadata": {},
   "outputs": [
    {
     "name": "stdout",
     "output_type": "stream",
     "text": [
      " *  \n",
      " *   *  \n",
      " *   *   *  \n",
      " *   *   *   *  \n"
     ]
    }
   ],
   "source": [
    "for i in range(4):\n",
    "    for j in range(i+1):\n",
    "        print(\" * \",end=' ')\n",
    "    print()\n",
    "    "
   ]
  },
  {
   "cell_type": "markdown",
   "metadata": {},
   "source": [
    "<h4>17.print pattern</h4>"
   ]
  },
  {
   "cell_type": "code",
   "execution_count": 13,
   "metadata": {},
   "outputs": [
    {
     "name": "stdout",
     "output_type": "stream",
     "text": [
      "1 \n",
      "1 2 \n",
      "1 2 3 \n",
      "1 2 3 4 \n"
     ]
    }
   ],
   "source": [
    "n=int(input(\"enter N:\"))\n",
    "for i in range(1,n):\n",
    "    for j in range(1,i+1):\n",
    "        print(j,end=' ')\n",
    "    print()"
   ]
  },
  {
   "cell_type": "markdown",
   "metadata": {},
   "source": [
    "<h4>18.print pattern</h4>"
   ]
  },
  {
   "cell_type": "code",
   "execution_count": 14,
   "metadata": {},
   "outputs": [
    {
     "name": "stdout",
     "output_type": "stream",
     "text": [
      "A \n",
      "A B \n",
      "A B C \n",
      "A B C D \n",
      "A B C D E \n"
     ]
    }
   ],
   "source": [
    "n=int(input(\"enter N:\"))\n",
    "for i in range(n):\n",
    "    for j in range(i+1):\n",
    "        print(chr(65+j),end=' ')\n",
    "    print()"
   ]
  }
 ],
 "metadata": {
  "kernelspec": {
   "display_name": "Python 3",
   "language": "python",
   "name": "python3"
  },
  "language_info": {
   "codemirror_mode": {
    "name": "ipython",
    "version": 3
   },
   "file_extension": ".py",
   "mimetype": "text/x-python",
   "name": "python",
   "nbconvert_exporter": "python",
   "pygments_lexer": "ipython3",
   "version": "3.11.3"
  },
  "orig_nbformat": 4
 },
 "nbformat": 4,
 "nbformat_minor": 2
}
