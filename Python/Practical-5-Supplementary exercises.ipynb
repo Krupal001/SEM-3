{
 "cells": [
  {
   "cell_type": "markdown",
   "id": "parental-radical",
   "metadata": {},
   "source": [
    "### Exercises\n",
    "<ol>\n",
    "    <li> Create a recursive function calcFactorial() to compute factorial of a parameter. Using the calcFactorial(), display factorial of only numeric command line variable number of arguments.\n",
    "    <li> Create functions add(), subtract(), multiply(), divide(), power() - each of them should accepct two number parameters and return appropriate answer as per the name of respective funtion. Create a function calculate() which should accpet three parameters: 'operand1', 'operand2', and 'operator'. Based on the value of the formal parameter 'operator' (+,-,*,/,^), the function calculate() should invoke relevant function from: add(), subtract(), etc. Demonstrate usage of: positional arguments, keyword arguments and default arguments.\n",
    "    <li> Create following string manipulation functions without using inbuilt functions:\n",
    "        <ul>\n",
    "            <li> toLowerCase(str): returns the parameter str in lower case\n",
    "            <li> toUpperCase(str): returns the parameter str in upper case\n",
    "            <li> toInitCap(str): returns the parameter str in sentence case\n",
    "            <li> strlen(str): returns length of the parameter str\n",
    "            <li> reverse(str): returns reverse of the paraeter str\n",
    "            <li> countVowelsFrequencies(str): returns frequency of each vowel in the parameter str\n",
    "            <li> search(str,substr): return index of first occurence of substr in str\n",
    "            <li> searchMultiple(str,substr): return indices of each occurence of substr in str\n",
    "            <li> remove(str,substr): remove first occurence of substr from str; return the resultant object\n",
    "            <li> removeMultiple(str,substr): remove all occurences of substr from str; return the resultant object\n",
    "        </ul>\n",
    "    <li> Create the following functionality:\n",
    "        <ul>\n",
    "            <li> Create a function dynamicFilter() such that\n",
    "            <li> It should be capable to accept an unknown number of parameters\n",
    "            <li> It should return the parameters in various groups based on the type of parameters; \n",
    "e.g.: integers, floats, strings =dynamicFilter(-1,\"create\",7,\"work\",-9.7,9,...)  \n",
    "        </ul>\n",
    "    <li> Develop appropriate functions to implement following functionality without using inbuilt functions:\n",
    "        <ul> \n",
    "            <li> reverseInt(int): returns reverse of the parameter int\n",
    "            <li> upperCeil(int): return upper ceiling int of the parameter int\n",
    "            <li> bottomCeil(int): return bottom ceiling int of the parameter int\n",
    "            <li> round(int,n): return the parameter int rounded to n positions\n",
    "        </ul>\n",
    "    <li> How to use map(), reduce() and lambda? Give at least four examples of each.\n",
    "    <li> Create a Python program to find the number of occurences of each letter in a string.\n",
    "</ol>\n",
    "\n",
    "File name should be:<br>\n",
    "YourRollNo-Practical-5-SupplementaryExcercises.ipynb"
   ]
  },
  {
   "cell_type": "code",
   "execution_count": null,
   "id": "valued-snowboard",
   "metadata": {},
   "outputs": [],
   "source": []
  }
 ],
 "metadata": {
  "kernelspec": {
   "display_name": "Python 3 (ipykernel)",
   "language": "python",
   "name": "python3"
  },
  "language_info": {
   "codemirror_mode": {
    "name": "ipython",
    "version": 3
   },
   "file_extension": ".py",
   "mimetype": "text/x-python",
   "name": "python",
   "nbconvert_exporter": "python",
   "pygments_lexer": "ipython3",
   "version": "3.10.9"
  }
 },
 "nbformat": 4,
 "nbformat_minor": 5
}
