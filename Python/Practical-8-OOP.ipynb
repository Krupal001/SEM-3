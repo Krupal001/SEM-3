{
 "cells": [
  {
   "cell_type": "markdown",
   "id": "dutch-armenia",
   "metadata": {},
   "source": [
    "#### How to create class?"
   ]
  },
  {
   "cell_type": "code",
   "execution_count": null,
   "id": "simple-checkout",
   "metadata": {},
   "outputs": [],
   "source": [
    "class Quote:\n",
    "    def tinker(self):\n",
    "        print(\"Be accountable!\")\n",
    "    ##\n",
    "##"
   ]
  },
  {
   "cell_type": "markdown",
   "id": "structural-employee",
   "metadata": {},
   "source": [
    "#### How to instantiate a class?"
   ]
  },
  {
   "cell_type": "code",
   "execution_count": null,
   "id": "statutory-updating",
   "metadata": {},
   "outputs": [],
   "source": [
    "obj1 = Quote()"
   ]
  },
  {
   "cell_type": "markdown",
   "id": "pressed-cream",
   "metadata": {},
   "source": [
    "#### How to invoke method?"
   ]
  },
  {
   "cell_type": "code",
   "execution_count": null,
   "id": "dependent-myanmar",
   "metadata": {},
   "outputs": [],
   "source": [
    "obj1.tinker()"
   ]
  },
  {
   "cell_type": "code",
   "execution_count": null,
   "id": "favorite-pound",
   "metadata": {},
   "outputs": [],
   "source": []
  },
  {
   "cell_type": "markdown",
   "id": "suspected-strengthening",
   "metadata": {},
   "source": [
    "#### How to pass parameters to method?"
   ]
  },
  {
   "cell_type": "code",
   "execution_count": null,
   "id": "marked-austin",
   "metadata": {},
   "outputs": [],
   "source": [
    "class Quote:\n",
    "    def tinker(self,quote):\n",
    "        print(quote)\n",
    "    ##\n",
    "##"
   ]
  },
  {
   "cell_type": "code",
   "execution_count": null,
   "id": "conditional-inspiration",
   "metadata": {},
   "outputs": [],
   "source": [
    "obj1 = Quote()\n",
    "obj1.tinker(\"Be responsible!\")"
   ]
  },
  {
   "cell_type": "code",
   "execution_count": null,
   "id": "innocent-composer",
   "metadata": {},
   "outputs": [],
   "source": [
    "obj1.tinker(\"Time management!\")"
   ]
  },
  {
   "cell_type": "code",
   "execution_count": null,
   "id": "selected-software",
   "metadata": {},
   "outputs": [],
   "source": [
    "obj1.tinker(\"Values matter!\")"
   ]
  },
  {
   "cell_type": "code",
   "execution_count": null,
   "id": "continental-candle",
   "metadata": {},
   "outputs": [],
   "source": []
  },
  {
   "cell_type": "code",
   "execution_count": null,
   "id": "unknown-lodging",
   "metadata": {},
   "outputs": [],
   "source": [
    "class Multiplication:\n",
    "    def multiply(self,op1,op2):\n",
    "        ans = op1 * op2\n",
    "        print(ans)\n",
    "    ##\n",
    "##"
   ]
  },
  {
   "cell_type": "code",
   "execution_count": null,
   "id": "armed-chapter",
   "metadata": {},
   "outputs": [],
   "source": [
    "m1 = Multiplication()\n",
    "m1.multiply(7,9)"
   ]
  },
  {
   "cell_type": "code",
   "execution_count": null,
   "id": "danish-statement",
   "metadata": {},
   "outputs": [],
   "source": []
  },
  {
   "cell_type": "markdown",
   "id": "optical-peninsula",
   "metadata": {},
   "source": [
    "#### How to work with data members?"
   ]
  },
  {
   "cell_type": "code",
   "execution_count": null,
   "id": "complicated-effectiveness",
   "metadata": {},
   "outputs": [],
   "source": [
    "class Quote:\n",
    "    def set(self,quote):\n",
    "        self.quote = quote  # notice the presence of the self keyword\n",
    "    ##\n",
    "    def tinker(self):\n",
    "        print(self.quote)\n",
    "    ##\n",
    "##"
   ]
  },
  {
   "cell_type": "code",
   "execution_count": null,
   "id": "thorough-alaska",
   "metadata": {},
   "outputs": [],
   "source": [
    "q1 = Quote()\n",
    "q1.set(\"Respect mother!\")\n",
    "q1.tinker()"
   ]
  },
  {
   "cell_type": "code",
   "execution_count": null,
   "id": "korean-cricket",
   "metadata": {},
   "outputs": [],
   "source": [
    "q2 = Quote()\n",
    "q2.set(\"Respect teacher!\")\n",
    "q2.tinker()"
   ]
  },
  {
   "cell_type": "code",
   "execution_count": null,
   "id": "sustained-realtor",
   "metadata": {},
   "outputs": [],
   "source": []
  },
  {
   "cell_type": "code",
   "execution_count": null,
   "id": "active-hollow",
   "metadata": {},
   "outputs": [],
   "source": [
    "class Student:\n",
    "    def set(self,rno,nm,cm,cppm,pm):\n",
    "        self.rollno = rno\n",
    "        self.name = nm\n",
    "        self.cmarks = cm\n",
    "        self.cppmarks = cppm\n",
    "        self.pythonmarks = pm\n",
    "        self.perc = 0\n",
    "    #\n",
    "    def calc(self):\n",
    "        total = self.cmarks + self.cppmarks + self.pythonmarks\n",
    "        self.perc = total / 300 * 100\n",
    "    #\n",
    "    def show(self):\n",
    "        print(self.rollno,self.name,self.cmarks,self.cppmarks,self.pythonmarks,':',self.perc)"
   ]
  },
  {
   "cell_type": "code",
   "execution_count": null,
   "id": "prescribed-centre",
   "metadata": {},
   "outputs": [],
   "source": [
    "s1 = Student()\n",
    "s1.set(1,'Abhimanyu',95,97,99)\n",
    "s1.calc()\n",
    "s1.show()"
   ]
  },
  {
   "cell_type": "code",
   "execution_count": null,
   "id": "cognitive-church",
   "metadata": {},
   "outputs": [],
   "source": []
  },
  {
   "cell_type": "markdown",
   "id": "opened-trading",
   "metadata": {},
   "source": [
    "#### How to work with constructor?"
   ]
  },
  {
   "cell_type": "code",
   "execution_count": null,
   "id": "interstate-rates",
   "metadata": {},
   "outputs": [],
   "source": [
    "class Quote:\n",
    "    def __init__(self,quote): # constructor\n",
    "        print(\"The constructor __init__() got called.\")\n",
    "        self.quote = quote\n",
    "        print(\"In __init__(), quote = \",self.quote)\n",
    "    ##\n",
    "    def set(self,quote):\n",
    "        self.quote = quote\n",
    "    ##\n",
    "    def tinker(self):\n",
    "        print(self.quote)\n",
    "    ##\n",
    "##"
   ]
  },
  {
   "cell_type": "code",
   "execution_count": null,
   "id": "optical-somalia",
   "metadata": {},
   "outputs": [],
   "source": [
    "q1 = Quote(\"Respect father!\") # notice constructor invocation\n",
    "q1.tinker()\n",
    "\n",
    "q1.set(\"Respect mother!\")\n",
    "q1.tinker()"
   ]
  },
  {
   "cell_type": "code",
   "execution_count": null,
   "id": "ranking-manhattan",
   "metadata": {},
   "outputs": [],
   "source": []
  },
  {
   "cell_type": "code",
   "execution_count": null,
   "id": "powered-block",
   "metadata": {},
   "outputs": [],
   "source": []
  },
  {
   "cell_type": "code",
   "execution_count": null,
   "id": "romance-coordination",
   "metadata": {},
   "outputs": [],
   "source": []
  },
  {
   "cell_type": "markdown",
   "id": "satisfied-extent",
   "metadata": {},
   "source": [
    "### Exercises\n",
    "<ol>\n",
    "    <li> Create a Calculator class with data members: operand1, operand2 and operator, and member functions: set(), add(), subtract(), multiply(), power(), and divide(). Show usage of class objects.\n",
    "    <li> Add constructor to the class Calculator\n",
    "    <li> Create a class Employee with data members: empno, name, gender, birthdate, da_rate, hra_rate, basic_salary, and member functions: constructor, set(), calc_da(), calc_hra(), calc_netsalary(). Assume suitable rates for da and hra.\n",
    "    <li> Create a class String with a data member str, and member functions: strlen(), toUpperCase(), toReverseCase(), reverse(), split(), and suppressAccessiveSpaces(). The split() should accept one character parameter and it should split the string accordingly. \n",
    "    <li> Create a constructor in the class Employee. Show usage of it.\n",
    "    <li> Experiment with method overloading. Explain your observations.\n",
    "    <li> Experiment with private/public members in class. Explain your observations.\n",
    "</ol>\n",
    "\n",
    "File name should be:<br>\n",
    "YourRollNo-Practical-8-OOP.ipynb"
   ]
  },
  {
   "cell_type": "markdown",
   "id": "1a9ac965",
   "metadata": {},
   "source": [
    "i/p:dharmsinh#desai#university\n",
    "<br>\n",
    "o/p:(dharmsinh,desai,university)"
   ]
  },
  {
   "cell_type": "code",
   "execution_count": 2,
   "id": "ef915713",
   "metadata": {},
   "outputs": [
    {
     "name": "stdout",
     "output_type": "stream",
     "text": [
      "add:- 10\n"
     ]
    }
   ],
   "source": [
    "class Calculator:\n",
    "    def __init__(self,operand1,operand2,operator):\n",
    "        self.operand1=operand1\n",
    "        self.operand2=operand2\n",
    "        self.operator=operator\n",
    "    def add(self):\n",
    "        if self.operator=='+':\n",
    "            return self.operand1+self.operand2\n",
    "    def subtract(self):\n",
    "        if self.operator=='-':\n",
    "            return self.operand1-self.operand2\n",
    "    def mul(self):\n",
    "        if self.operator=='*':\n",
    "            return self.operand1*self.operand2\n",
    "    def pow(self):\n",
    "        if self.operator=='**':\n",
    "            return self.operand1**self.operand2\n",
    "    def div(self):\n",
    "        if self.operator=='/' and self.operand2!=0:\n",
    "            return self.operand1//self.operand2\n",
    "    \n",
    "calc=Calculator(5,5,'+')\n",
    "print('add:-',calc.add())\n",
    "    # print('sub:-',add)\n",
    "    # print('add:-',add)\n",
    "    # print('add:-',add)\n",
    "    # print('add:-',add)\n",
    "        "
   ]
  },
  {
   "cell_type": "code",
   "execution_count": null,
   "id": "70176b33",
   "metadata": {},
   "outputs": [],
   "source": [
    "class String:\n",
    "   def  __init__(self,str):\n",
    "      self.str=str\n",
    "   def strlen(self):\n",
    "      return len(self.str)\n",
    "   def toUpperCase(self):\n",
    "      return \n",
    "      \n",
    "        \n"
   ]
  }
 ],
 "metadata": {
  "kernelspec": {
   "display_name": "Python 3 (ipykernel)",
   "language": "python",
   "name": "python3"
  },
  "language_info": {
   "codemirror_mode": {
    "name": "ipython",
    "version": 3
   },
   "file_extension": ".py",
   "mimetype": "text/x-python",
   "name": "python",
   "nbconvert_exporter": "python",
   "pygments_lexer": "ipython3",
   "version": "3.11.4"
  }
 },
 "nbformat": 4,
 "nbformat_minor": 5
}
