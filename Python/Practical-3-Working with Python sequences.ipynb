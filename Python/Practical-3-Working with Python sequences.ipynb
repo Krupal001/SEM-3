{
 "cells": [
  {
   "cell_type": "markdown",
   "id": "every-basement",
   "metadata": {},
   "source": [
    "### 1. Sequences\n",
    "List<br>\n",
    "Tuple<br>\n",
    "Dictionary<br>"
   ]
  },
  {
   "cell_type": "markdown",
   "id": "saving-culture",
   "metadata": {},
   "source": [
    "The 'list' sequence : list creation"
   ]
  },
  {
   "cell_type": "code",
   "execution_count": null,
   "id": "vocational-dayton",
   "metadata": {},
   "outputs": [],
   "source": [
    "mca3 = ['java','python',True, False, 7, 7.9]"
   ]
  },
  {
   "cell_type": "code",
   "execution_count": null,
   "id": "governmental-variable",
   "metadata": {},
   "outputs": [],
   "source": [
    "if type(mca3) == list:\n",
    "    print('yes')\n",
    "else:\n",
    "    print('no')"
   ]
  },
  {
   "cell_type": "code",
   "execution_count": null,
   "id": "coastal-eating",
   "metadata": {},
   "outputs": [],
   "source": [
    "mca3"
   ]
  },
  {
   "cell_type": "markdown",
   "id": "baking-polls",
   "metadata": {},
   "source": [
    "Accesing list elements"
   ]
  },
  {
   "cell_type": "code",
   "execution_count": null,
   "id": "stylish-things",
   "metadata": {},
   "outputs": [],
   "source": [
    "stud = ['ma007','joshi',97,95.2,True,'reading',7,7.9]"
   ]
  },
  {
   "cell_type": "code",
   "execution_count": null,
   "id": "progressive-christian",
   "metadata": {},
   "outputs": [],
   "source": [
    "stud[0]"
   ]
  },
  {
   "cell_type": "code",
   "execution_count": null,
   "id": "inclusive-spell",
   "metadata": {},
   "outputs": [],
   "source": [
    "stud[1:]"
   ]
  },
  {
   "cell_type": "code",
   "execution_count": null,
   "id": "hourly-apparatus",
   "metadata": {},
   "outputs": [],
   "source": [
    "stud[-1]"
   ]
  },
  {
   "cell_type": "code",
   "execution_count": null,
   "id": "terminal-calibration",
   "metadata": {},
   "outputs": [],
   "source": [
    "stud[-len(stud)]"
   ]
  },
  {
   "cell_type": "code",
   "execution_count": null,
   "id": "initial-companion",
   "metadata": {},
   "outputs": [],
   "source": [
    "stud[-6:-2]"
   ]
  },
  {
   "cell_type": "code",
   "execution_count": null,
   "id": "social-ministry",
   "metadata": {},
   "outputs": [],
   "source": [
    "msg = \"gratitude => success.\"\n",
    "lst = list(msg)\n",
    "lst"
   ]
  },
  {
   "cell_type": "code",
   "execution_count": null,
   "id": "square-thirty",
   "metadata": {},
   "outputs": [],
   "source": [
    "msg = \"Gratitude => success.\"\n",
    "msg.split()"
   ]
  },
  {
   "cell_type": "markdown",
   "id": "decent-colon",
   "metadata": {},
   "source": [
    "### EXERCISES-3-a\n",
    "Create Python programs for the following:\n",
    "<ol>\n",
    "    <li>Remove duplicate list items. \n",
    "    <li>Store reverse of each list member in another list at same position.\n",
    "    <li>Take a sentence as input from user. Break it into words, store words in a list. Sort list according to length of string members.\n",
    "    <li>Create a list which contains integers from -100 to 1 as list items.\n",
    "    <li>Create a list which contains all even integers between 1 and 10 as list items.\n",
    "    <li>Create a list which contains all consonent-alphabets between 'A' and 'Z' as list items.\n",
    "</ol>"
   ]
  },
  {
   "cell_type": "markdown",
   "id": "vocal-designer",
   "metadata": {},
   "source": [
    "The 'tuple' sequence : creating tuple"
   ]
  },
  {
   "cell_type": "code",
   "execution_count": null,
   "id": "naked-inspection",
   "metadata": {},
   "outputs": [],
   "source": [
    "a = (7,9,79)\n",
    "a"
   ]
  },
  {
   "cell_type": "code",
   "execution_count": null,
   "id": "registered-mexico",
   "metadata": {},
   "outputs": [],
   "source": [
    "type(a)"
   ]
  },
  {
   "cell_type": "code",
   "execution_count": null,
   "id": "metallic-chile",
   "metadata": {},
   "outputs": [],
   "source": [
    "# reverse a string\n",
    "str = \"Hard work is better than arguments.\"\n",
    "\n",
    "ln = len(str)\n",
    "# print(ln)\n",
    "for i in range(1,ln+1):\n",
    "    print(str[-i],end='')\n",
    "    ln -= 1"
   ]
  },
  {
   "cell_type": "markdown",
   "id": "fallen-hello",
   "metadata": {},
   "source": [
    "### EXERCISES-3-b\n",
    "Create Python programs for the following:\n",
    "<ol>\n",
    "    <li>Store 5 different birthdates into a tuple. Print birthdates in the order of from elder to younger (i.e.Sort the tuple in descending order of dates).\n",
    "    <li>Create two tuples with some elements. Store only common elements from both the tuples into a third tuple.\n",
    "    <li>Reverse a string without help of inbuilt function (OR Reverse a string using only one command/statement). Store answer in another string.\n",
    "</ol>"
   ]
  },
  {
   "cell_type": "markdown",
   "id": "driven-budget",
   "metadata": {},
   "source": [
    "The 'dictionary' sequence : Creating dictionary"
   ]
  },
  {
   "cell_type": "code",
   "execution_count": null,
   "id": "infrared-finger",
   "metadata": {},
   "outputs": [],
   "source": [
    "students = {'ma01':'ram','ma02':'sham','ma03':'rahim'}"
   ]
  },
  {
   "cell_type": "code",
   "execution_count": null,
   "id": "public-violence",
   "metadata": {},
   "outputs": [],
   "source": [
    "students"
   ]
  },
  {
   "cell_type": "code",
   "execution_count": null,
   "id": "engaged-boundary",
   "metadata": {},
   "outputs": [],
   "source": [
    "type(students)"
   ]
  },
  {
   "cell_type": "markdown",
   "id": "oriental-passport",
   "metadata": {},
   "source": [
    "Accessing elements"
   ]
  },
  {
   "cell_type": "code",
   "execution_count": null,
   "id": "entertaining-launch",
   "metadata": {},
   "outputs": [],
   "source": [
    "students['ma01']"
   ]
  },
  {
   "cell_type": "code",
   "execution_count": null,
   "id": "mexican-copper",
   "metadata": {},
   "outputs": [],
   "source": [
    "students[1]"
   ]
  },
  {
   "cell_type": "code",
   "execution_count": null,
   "id": "coordinate-mineral",
   "metadata": {},
   "outputs": [],
   "source": [
    "students[-1]"
   ]
  },
  {
   "cell_type": "code",
   "execution_count": null,
   "id": "opposite-teens",
   "metadata": {},
   "outputs": [],
   "source": [
    "students.keys()"
   ]
  },
  {
   "cell_type": "code",
   "execution_count": null,
   "id": "baking-light",
   "metadata": {},
   "outputs": [],
   "source": [
    "students.values()"
   ]
  },
  {
   "cell_type": "code",
   "execution_count": null,
   "id": "little-sarah",
   "metadata": {},
   "outputs": [],
   "source": [
    "for i in students.keys():\n",
    "    print(i,':',students[i])"
   ]
  },
  {
   "cell_type": "markdown",
   "id": "cultural-champion",
   "metadata": {},
   "source": [
    "### EXERCISES-3-c\n",
    "<ol>\n",
    "    <li> Explain usage of items() method of dictionary.\n",
    "    <li> Explain usage of get() & pop() methods of dictionary.\n",
    "    <li> Explain usage of popitem() & update() methods of dictionary.\n",
    "    <li> Count frequency of each vowel in a sentence.\n",
    "</ol>"
   ]
  },
  {
   "cell_type": "markdown",
   "id": "normal-class",
   "metadata": {},
   "source": [
    "File name should be:<br>\n",
    "MA0<NN>-Practical-3-Working with Python sequences.ipynb"
   ]
  },
  {
   "cell_type": "code",
   "execution_count": null,
   "id": "accompanied-baghdad",
   "metadata": {},
   "outputs": [],
   "source": []
  }
 ],
 "metadata": {
  "kernelspec": {
   "display_name": "Python 3 (ipykernel)",
   "language": "python",
   "name": "python3"
  },
  "language_info": {
   "codemirror_mode": {
    "name": "ipython",
    "version": 3
   },
   "file_extension": ".py",
   "mimetype": "text/x-python",
   "name": "python",
   "nbconvert_exporter": "python",
   "pygments_lexer": "ipython3",
   "version": "3.10.9"
  }
 },
 "nbformat": 4,
 "nbformat_minor": 5
}
